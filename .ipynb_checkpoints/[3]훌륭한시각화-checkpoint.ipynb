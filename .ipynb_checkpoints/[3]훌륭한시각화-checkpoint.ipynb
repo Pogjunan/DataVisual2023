{
 "cells": [
  {
   "cell_type": "raw",
   "id": "aa96b4a5-a067-42ba-86be-5c42046e6872",
   "metadata": {},
   "source": [
    "---\n",
    "title: \"훌륭한 시각화\"\n",
    "author: \"전준한\"\n",
    "date: \"06/012/2023\"\n",
    "draft: false\n",
    "categories:\n",
    "  - 훌륭한 시각화\n",
    "---"
   ]
  },
  {
   "cell_type": "markdown",
   "id": "a295f174-b2f9-4f67-849f-83a57245ae88",
   "metadata": {},
   "source": [
    "# Presentation vs Exploration "
   ]
  },
  {
   "cell_type": "markdown",
   "id": "0b65cda5-9333-465b-bf39-446f0c05a088",
   "metadata": {},
   "source": [
    "`-` 프레젠테이션 : 화자가 하고자하는 말을 직관적으로 빠르게 전달\n",
    "<br>\n",
    "`-` 익스플로레이션 : 하나의 작품처럼 시각화하여 독자가 메시지 찾을 수 있게 도움, 전체적인 주제 파악 가능 ex) 수형도\n",
    "특히 exploration 은 이미 정보를 알고있는 사람에게 더 쉬운 파악할 수 있게 해줌."
   ]
  },
  {
   "cell_type": "markdown",
   "id": "5b626b96-111e-411e-b125-9cc985145f66",
   "metadata": {
    "scrolled": true
   },
   "source": [
    "<img src=\"https://github.com/guebin/2021DV/blob/master/_notebooks/2021-11-16-FIG2.png?raw=true\" width=\"500\" height=\"300\">\r\n"
   ]
  },
  {
   "cell_type": "code",
   "execution_count": 3,
   "id": "9d0aba2b-c85f-48dc-b382-e675719335ea",
   "metadata": {},
   "outputs": [],
   "source": [
    "# 절충안 존재 : by 카이로"
   ]
  },
  {
   "cell_type": "markdown",
   "id": "59d35ab9-35a6-47bf-81ce-de0d4e6016f5",
   "metadata": {},
   "source": [
    "<img src=\"https://github.com/guebin/2021DV/blob/master/_notebooks/2021-11-16-FIG3.png?raw=true\" width=\"500\" length=\"400\">\r\n",
    "- \"#![](https://github.com/guebin/2021DV/blob/master/_notebooks/2021-11-16-FIG3.png?raw=true\")"
   ]
  },
  {
   "cell_type": "markdown",
   "id": "d10f4de7-9810-4773-85f1-82bf75fa0f3f",
   "metadata": {},
   "source": [
    "```Python\n",
    "## 코드 진행은 이런느낌.\n",
    "fig = ggplot(tidydata)\n",
    "line = geom_line(aes(x=소득, y=불평등, color=정부))\n",
    "text = geom_text(aes(x=소득, y=불평등, label=연도))\n",
    "fig + line + text \n",
    "```"
   ]
  },
  {
   "cell_type": "markdown",
   "id": "fafd4103-358b-427e-9958-ffabc8676182",
   "metadata": {},
   "source": [
    "# 중요시사점 (by 최규빈교수님) - 전적으로 동의\n",
    "`-` 어떠한 현상을 살펴볼때 그것의 부분집합들이 역시 그러한지 살펴보는것은 기본이다. <br>\n",
    "`-` 중요한 선을 제외한 나머지는 회색처리(adobe illustrator 사용) 한 것이 시각적으로 우수하다. <br>\n",
    "`-` 과학적인 논문작업에 들어갈 그림이라면 임의로 회색처리한 것이 다소 비판을 받을 수 있다."
   ]
  },
  {
   "cell_type": "markdown",
   "id": "e570ce6a-e925-4e6b-af41-f41214f51233",
   "metadata": {},
   "source": [
    "# `-` 결국 돌고돌아서 정석은 일반 플랏"
   ]
  },
  {
   "cell_type": "markdown",
   "id": "7da7e9b0-ed83-4ea4-bc46-4ed1d614a839",
   "metadata": {},
   "source": [
    "### 이 외에도 원형플랏 , 다트플랏,3d플랏, 지도위의 크기에 따른 산점도등 둘러보았지만 결국은 **기초모형**이 최고다."
   ]
  },
  {
   "cell_type": "markdown",
   "id": "3e0e4c97-c082-4b8a-87e4-d981a019e161",
   "metadata": {},
   "source": [
    "`-` 시간경과에 따른 변화를 보여주고 싶으면 라인플랏, 비교를 하고 싶다면 바플랏, 관계를 알고싶다면 산점도. "
   ]
  },
  {
   "cell_type": "markdown",
   "id": "ebd22251-dbf6-42a7-bd41-2534cec0d5c8",
   "metadata": {},
   "source": [
    "![](https://github.com/guebin/2021DV/blob/master/_notebooks/2021-11-16-FIG18.png?raw=true)"
   ]
  },
  {
   "cell_type": "code",
   "execution_count": null,
   "id": "d68d810d-8655-4dbd-8bb9-aef9b4179088",
   "metadata": {},
   "outputs": [],
   "source": []
  }
 ],
 "metadata": {
  "kernelspec": {
   "display_name": "Python (hf)",
   "language": "python",
   "name": "hf"
  },
  "language_info": {
   "codemirror_mode": {
    "name": "ipython",
    "version": 3
   },
   "file_extension": ".py",
   "mimetype": "text/x-python",
   "name": "python",
   "nbconvert_exporter": "python",
   "pygments_lexer": "ipython3",
   "version": "3.10.13"
  }
 },
 "nbformat": 4,
 "nbformat_minor": 5
}
